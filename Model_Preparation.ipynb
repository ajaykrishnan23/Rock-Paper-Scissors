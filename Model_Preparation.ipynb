{
 "cells": [
  {
   "cell_type": "code",
   "execution_count": 1,
   "metadata": {},
   "outputs": [
    {
     "name": "stderr",
     "output_type": "stream",
     "text": [
      "C:\\Users\\krish\\AppData\\Roaming\\Python\\Python37\\site-packages\\numpy\\core\\__init__.py:29: UserWarning: loaded more than 1 DLL from .libs:\n",
      "C:\\Users\\krish\\AppData\\Roaming\\Python\\Python37\\site-packages\\numpy\\.libs\\libopenblas.IPBC74C7KURV7CB2PKT5Z5FNR3SIBV4J.gfortran-win_amd64.dll\n",
      "C:\\Users\\krish\\AppData\\Roaming\\Python\\Python37\\site-packages\\numpy\\.libs\\libopenblas.TXA6YQSD3GCQQC22GEQ54J2UDCXDXHWN.gfortran-win_amd64.dll\n",
      "  stacklevel=1)\n"
     ]
    }
   ],
   "source": [
    "import os\n",
    "from PIL import Image\n",
    "import matplotlib.pyplot as plt\n",
    "import torch\n",
    "import torchvision\n",
    "from torch.utils.data import DataLoader, Dataset, random_split\n",
    "import torchvision.transforms as transforms\n",
    "import torchvision.models as models\n",
    "\n",
    "import seaborn as sns\n",
    "import torch\n",
    "import torch.nn as nn\n",
    "import torch.nn.functional as F\n",
    "import torch.optim as optim\n",
    "\n",
    "import torchvision\n",
    "import matplotlib.pyplot as plt\n",
    "from torchvision import datasets\n",
    "\n",
    "import torchvision.transforms as transforms\n",
    "\n",
    "import numpy as np\n",
    "import pandas as pd\n",
    "import cv2\n",
    "import random\n",
    "\n",
    "device = torch.device('cuda' if torch.cuda.is_available() else 'cpu')"
   ]
  },
  {
   "cell_type": "code",
   "execution_count": 48,
   "metadata": {},
   "outputs": [],
   "source": [
    "categories = ('rock','paper','scissors')"
   ]
  },
  {
   "cell_type": "code",
   "execution_count": 126,
   "metadata": {},
   "outputs": [],
   "source": [
    "def create_training_test_data(path):\n",
    "    datadir = path\n",
    "    \n",
    "    training_data = []\n",
    "    test_data = []\n",
    "    for category in categories:\n",
    "        classes = []\n",
    "        path = datadir+ \"/\" + category\n",
    "        class_num = categories.index(category)\n",
    "        print(categories.index(category))\n",
    "        print(\"Number of images in \"+category + \" = \" + str(len(os.listdir(path))))\n",
    "        for img in os.listdir(path):\n",
    "            new_array = cv2.imread((path+\"/\"+img))\n",
    "            npimg = np.asarray(new_array)\n",
    "            #print(new_array.shape)\n",
    "            class_numb = [class_num]\n",
    "            classes.append([npimg,class_num])\n",
    "        random.shuffle(classes)\n",
    "        for i in range(0,int(0.2*len(classes))):\n",
    "            test_data.append(classes[i])\n",
    "        for i in range(int(0.2*len(classes)),len(classes)):\n",
    "            training_data.append(classes[i])\n",
    "            \n",
    "    return training_data,test_data"
   ]
  },
  {
   "cell_type": "code",
   "execution_count": 127,
   "metadata": {},
   "outputs": [
    {
     "name": "stdout",
     "output_type": "stream",
     "text": [
      "0\n",
      "Number of images in rock = 1000\n",
      "1\n",
      "Number of images in paper = 1000\n",
      "2\n",
      "Number of images in scissors = 1000\n"
     ]
    }
   ],
   "source": [
    "training_data,validation_test_data = create_training_test_data('./image_data')"
   ]
  },
  {
   "cell_type": "code",
   "execution_count": 134,
   "metadata": {},
   "outputs": [
    {
     "name": "stdout",
     "output_type": "stream",
     "text": [
      "2400\n",
      "600\n"
     ]
    }
   ],
   "source": [
    "print(len(training_data))\n",
    "print(len(validation_test_data))"
   ]
  },
  {
   "cell_type": "code",
   "execution_count": 94,
   "metadata": {},
   "outputs": [],
   "source": [
    "def create_training_data(path):\n",
    "    datadir = path\n",
    "    training_data = []\n",
    "    test_data = []\n",
    "    for category in categories:    \n",
    "        path = datadir + \"/\" + category\n",
    "        class_num = categories.index(category)\n",
    "        print(categories.index(category))\n",
    "        print(\"Number of images in \"+category + \" = \" + str(len(os.listdir(path))))\n",
    "        for img in os.listdir(path):\n",
    "            new_array = cv2.imread((path+'/'+img))\n",
    "            npimg = np.asarray(new_array)\n",
    "            class_numb = [class_num]\n",
    "            #npimg = transforms(npimg)\n",
    "            training_data.append([npimg,class_num])\n",
    "            #print(training_data)\n",
    "            \n",
    "    return training_data"
   ]
  },
  {
   "cell_type": "code",
   "execution_count": 95,
   "metadata": {},
   "outputs": [
    {
     "name": "stdout",
     "output_type": "stream",
     "text": [
      "0\n",
      "Number of images in rock = 500\n",
      "1\n",
      "Number of images in paper = 500\n",
      "2\n",
      "Number of images in scissors = 500\n"
     ]
    }
   ],
   "source": [
    "training_data = create_training_data('./image_data')"
   ]
  },
  {
   "cell_type": "code",
   "execution_count": 135,
   "metadata": {},
   "outputs": [
    {
     "name": "stdout",
     "output_type": "stream",
     "text": [
      "2400\n",
      "600\n"
     ]
    }
   ],
   "source": [
    "print(len(training_data))\n",
    "print(len(validation_test_data))"
   ]
  },
  {
   "cell_type": "code",
   "execution_count": 140,
   "metadata": {},
   "outputs": [],
   "source": [
    "batch_size = 8\n",
    "validation_size = int(len(validation_test_data)/2)\n",
    "\n",
    "validation_data,test_data = random_split(validation_test_data,[validation_size,validation_size])\n",
    "train_loader = torch.utils.data.DataLoader(train_data, batch_size=batch_size, shuffle=False)\n",
    "validation_loader = torch.utils.data.DataLoader(validation_data, batch_size=batch_size, shuffle=False)\n",
    "test_loader = torch.utils.data.DataLoader(test_data, batch_size=batch_size, shuffle=False)"
   ]
  },
  {
   "cell_type": "code",
   "execution_count": 139,
   "metadata": {},
   "outputs": [],
   "source": [
    "batch_size = 8\n",
    "full_data = training_data\n",
    "train_size = int(0.8 * len(full_data))\n",
    "validationtest_size = int(0.2*len(full_data))\n",
    "validation_size = int(0.1*len(full_data))\n",
    "test_size = int(0.1*len(full_data))\n",
    "\n",
    "train_data, validationtest_data = random_split(full_data, [train_size, validationtest_size])\n",
    "train_loader = torch.utils.data.DataLoader(train_data, batch_size=batch_size, shuffle=False)\n",
    "validation_data,test_data = random_split(validationtest_data,[validation_size, test_size])\n",
    "validation_loader = torch.utils.data.DataLoader(validation_data, batch_size=batch_size, shuffle=False)\n",
    "test_loader = torch.utils.data.DataLoader(test_data, batch_size=batch_size, shuffle=False)"
   ]
  },
  {
   "cell_type": "code",
   "execution_count": 144,
   "metadata": {},
   "outputs": [
    {
     "name": "stdout",
     "output_type": "stream",
     "text": [
      "{'0': 800, '1': 800, '2': 800}\n"
     ]
    }
   ],
   "source": [
    "index = {'0': 0,'1':0,'2':0}\n",
    "for pic,value in training_data:\n",
    "    index[str(value)] += 1\n",
    "print(index)"
   ]
  },
  {
   "cell_type": "code",
   "execution_count": 54,
   "metadata": {},
   "outputs": [],
   "source": [
    "def validation(model, val_losses):\n",
    "    with torch.no_grad():\n",
    "        model.eval()\n",
    "        for img,index in validation_loader:\n",
    "            npimg = (img).numpy()\n",
    "            new_array = np.transpose(npimg,(0,3,1,2))\n",
    "            new_array = torch.from_numpy(new_array)\n",
    "            new_array = new_array.type(torch.FloatTensor)\n",
    "            outputs = model(new_array.to(device))\n",
    "            index = index.type(torch.LongTensor)\n",
    "            val_loss = loss_fn(outputs, index)\n",
    "            val_losses.append(val_loss.item())\n",
    "    return val_losses"
   ]
  },
  {
   "cell_type": "code",
   "execution_count": 55,
   "metadata": {},
   "outputs": [],
   "source": [
    "def train(model,train_losses,device):\n",
    "  model.train()\n",
    "  for batch_id,data in enumerate(train_loader):\n",
    "    inputs,label = data\n",
    "    opt.zero_grad()\n",
    "\n",
    "    #-----------------------Preprocessing--------------------------\n",
    "\n",
    "    npimg = (inputs).numpy()\n",
    "    new_array = np.transpose(npimg,(0,3,1,2))\n",
    "    new_array = torch.from_numpy(new_array)\n",
    "    new_array = new_array.type(torch.FloatTensor)\n",
    "\n",
    "    #-----------------------Forward--------------------------------\n",
    "\n",
    "    outputs = model(new_array.to(device))\n",
    "    loss = loss_fn(outputs,label.to(device))\n",
    "    train_losses.append(loss.item())\n",
    "\n",
    "    #-----------------------Backward----------------------------------\n",
    "\n",
    "    loss.backward()\n",
    "    opt.step()\n",
    "    return train_losses"
   ]
  },
  {
   "cell_type": "code",
   "execution_count": 56,
   "metadata": {},
   "outputs": [],
   "source": [
    "def test(model,device):\n",
    "  \n",
    "  model.eval()\n",
    "  test_loss = 0\n",
    "  tot = 0\n",
    "  c = 0\n",
    "  with torch.no_grad():\n",
    "\n",
    "    for batch_id,data in enumerate(validation_loader):\n",
    "      inputs,label = data\n",
    "      npimg = (inputs).numpy()\n",
    "      new_array = np.transpose(npimg,(0,3,1,2))\n",
    "      new_array = torch.from_numpy(new_array)\n",
    "      new_array = new_array.type(torch.FloatTensor)\n",
    "      outputs = model(new_array.to(device))\n",
    "      val,index = torch.max(outputs,1)\n",
    "      label = label.to(device)\n",
    "      #print(label,index)\n",
    "      tot += batch_size\n",
    "      for i in range(0,len(label)):\n",
    "        if label[i] == index[i]:\n",
    "          c+= 1\n",
    "    print(\"Accuracy:\",c,tot,c/tot)"
   ]
  },
  {
   "cell_type": "code",
   "execution_count": 57,
   "metadata": {},
   "outputs": [],
   "source": [
    "def print_prediction(model, dataset, device):\n",
    "    idx = np.random.randint(len(dataset))\n",
    "    #path = dataset.pathes[idx]\n",
    "    \n",
    "    with torch.no_grad():\n",
    "        model.eval()\n",
    "        img, target_text = dataset[idx]\n",
    "        image = img\n",
    "        new_array = np.transpose(img,(2,0,1))\n",
    "        new_array = torch.from_numpy(new_array)\n",
    "        new_array = new_array.type(torch.FloatTensor)\n",
    "        logits = model(new_array.unsqueeze(0).to(device))\n",
    "\n",
    "    pred_text = categories[torch.max(logits,1)[1]]\n",
    "    print(\"Truth\",categories[target_text],\"Pred\",pred_text)"
   ]
  },
  {
   "cell_type": "code",
   "execution_count": 58,
   "metadata": {},
   "outputs": [],
   "source": [
    "from torchvision.models.alexnet import alexnet"
   ]
  },
  {
   "cell_type": "code",
   "execution_count": 59,
   "metadata": {},
   "outputs": [
    {
     "name": "stdout",
     "output_type": "stream",
     "text": [
      "ResNet(\n",
      "  (conv1): Conv2d(3, 64, kernel_size=(7, 7), stride=(2, 2), padding=(3, 3), bias=False)\n",
      "  (bn1): BatchNorm2d(64, eps=1e-05, momentum=0.1, affine=True, track_running_stats=True)\n",
      "  (relu): ReLU(inplace=True)\n",
      "  (maxpool): MaxPool2d(kernel_size=3, stride=2, padding=1, dilation=1, ceil_mode=False)\n",
      "  (layer1): Sequential(\n",
      "    (0): BasicBlock(\n",
      "      (conv1): Conv2d(64, 64, kernel_size=(3, 3), stride=(1, 1), padding=(1, 1), bias=False)\n",
      "      (bn1): BatchNorm2d(64, eps=1e-05, momentum=0.1, affine=True, track_running_stats=True)\n",
      "      (relu): ReLU(inplace=True)\n",
      "      (conv2): Conv2d(64, 64, kernel_size=(3, 3), stride=(1, 1), padding=(1, 1), bias=False)\n",
      "      (bn2): BatchNorm2d(64, eps=1e-05, momentum=0.1, affine=True, track_running_stats=True)\n",
      "    )\n",
      "    (1): BasicBlock(\n",
      "      (conv1): Conv2d(64, 64, kernel_size=(3, 3), stride=(1, 1), padding=(1, 1), bias=False)\n",
      "      (bn1): BatchNorm2d(64, eps=1e-05, momentum=0.1, affine=True, track_running_stats=True)\n",
      "      (relu): ReLU(inplace=True)\n",
      "      (conv2): Conv2d(64, 64, kernel_size=(3, 3), stride=(1, 1), padding=(1, 1), bias=False)\n",
      "      (bn2): BatchNorm2d(64, eps=1e-05, momentum=0.1, affine=True, track_running_stats=True)\n",
      "    )\n",
      "  )\n",
      "  (layer2): Sequential(\n",
      "    (0): BasicBlock(\n",
      "      (conv1): Conv2d(64, 128, kernel_size=(3, 3), stride=(2, 2), padding=(1, 1), bias=False)\n",
      "      (bn1): BatchNorm2d(128, eps=1e-05, momentum=0.1, affine=True, track_running_stats=True)\n",
      "      (relu): ReLU(inplace=True)\n",
      "      (conv2): Conv2d(128, 128, kernel_size=(3, 3), stride=(1, 1), padding=(1, 1), bias=False)\n",
      "      (bn2): BatchNorm2d(128, eps=1e-05, momentum=0.1, affine=True, track_running_stats=True)\n",
      "      (downsample): Sequential(\n",
      "        (0): Conv2d(64, 128, kernel_size=(1, 1), stride=(2, 2), bias=False)\n",
      "        (1): BatchNorm2d(128, eps=1e-05, momentum=0.1, affine=True, track_running_stats=True)\n",
      "      )\n",
      "    )\n",
      "    (1): BasicBlock(\n",
      "      (conv1): Conv2d(128, 128, kernel_size=(3, 3), stride=(1, 1), padding=(1, 1), bias=False)\n",
      "      (bn1): BatchNorm2d(128, eps=1e-05, momentum=0.1, affine=True, track_running_stats=True)\n",
      "      (relu): ReLU(inplace=True)\n",
      "      (conv2): Conv2d(128, 128, kernel_size=(3, 3), stride=(1, 1), padding=(1, 1), bias=False)\n",
      "      (bn2): BatchNorm2d(128, eps=1e-05, momentum=0.1, affine=True, track_running_stats=True)\n",
      "    )\n",
      "  )\n",
      "  (layer3): Sequential(\n",
      "    (0): BasicBlock(\n",
      "      (conv1): Conv2d(128, 256, kernel_size=(3, 3), stride=(2, 2), padding=(1, 1), bias=False)\n",
      "      (bn1): BatchNorm2d(256, eps=1e-05, momentum=0.1, affine=True, track_running_stats=True)\n",
      "      (relu): ReLU(inplace=True)\n",
      "      (conv2): Conv2d(256, 256, kernel_size=(3, 3), stride=(1, 1), padding=(1, 1), bias=False)\n",
      "      (bn2): BatchNorm2d(256, eps=1e-05, momentum=0.1, affine=True, track_running_stats=True)\n",
      "      (downsample): Sequential(\n",
      "        (0): Conv2d(128, 256, kernel_size=(1, 1), stride=(2, 2), bias=False)\n",
      "        (1): BatchNorm2d(256, eps=1e-05, momentum=0.1, affine=True, track_running_stats=True)\n",
      "      )\n",
      "    )\n",
      "    (1): BasicBlock(\n",
      "      (conv1): Conv2d(256, 256, kernel_size=(3, 3), stride=(1, 1), padding=(1, 1), bias=False)\n",
      "      (bn1): BatchNorm2d(256, eps=1e-05, momentum=0.1, affine=True, track_running_stats=True)\n",
      "      (relu): ReLU(inplace=True)\n",
      "      (conv2): Conv2d(256, 256, kernel_size=(3, 3), stride=(1, 1), padding=(1, 1), bias=False)\n",
      "      (bn2): BatchNorm2d(256, eps=1e-05, momentum=0.1, affine=True, track_running_stats=True)\n",
      "    )\n",
      "  )\n",
      "  (layer4): Sequential(\n",
      "    (0): BasicBlock(\n",
      "      (conv1): Conv2d(256, 512, kernel_size=(3, 3), stride=(2, 2), padding=(1, 1), bias=False)\n",
      "      (bn1): BatchNorm2d(512, eps=1e-05, momentum=0.1, affine=True, track_running_stats=True)\n",
      "      (relu): ReLU(inplace=True)\n",
      "      (conv2): Conv2d(512, 512, kernel_size=(3, 3), stride=(1, 1), padding=(1, 1), bias=False)\n",
      "      (bn2): BatchNorm2d(512, eps=1e-05, momentum=0.1, affine=True, track_running_stats=True)\n",
      "      (downsample): Sequential(\n",
      "        (0): Conv2d(256, 512, kernel_size=(1, 1), stride=(2, 2), bias=False)\n",
      "        (1): BatchNorm2d(512, eps=1e-05, momentum=0.1, affine=True, track_running_stats=True)\n",
      "      )\n",
      "    )\n",
      "    (1): BasicBlock(\n",
      "      (conv1): Conv2d(512, 512, kernel_size=(3, 3), stride=(1, 1), padding=(1, 1), bias=False)\n",
      "      (bn1): BatchNorm2d(512, eps=1e-05, momentum=0.1, affine=True, track_running_stats=True)\n",
      "      (relu): ReLU(inplace=True)\n",
      "      (conv2): Conv2d(512, 512, kernel_size=(3, 3), stride=(1, 1), padding=(1, 1), bias=False)\n",
      "      (bn2): BatchNorm2d(512, eps=1e-05, momentum=0.1, affine=True, track_running_stats=True)\n",
      "    )\n",
      "  )\n",
      "  (avgpool): AdaptiveAvgPool2d(output_size=(1, 1))\n",
      "  (fc): Sequential(\n",
      "    (0): Dropout(p=0.4, inplace=False)\n",
      "    (1): BatchNorm1d(512, eps=1e-05, momentum=0.1, affine=True, track_running_stats=True)\n",
      "    (2): ReLU()\n",
      "    (3): Linear(in_features=512, out_features=3, bias=True)\n",
      "  )\n",
      ")\n"
     ]
    }
   ],
   "source": [
    "print(model)"
   ]
  },
  {
   "cell_type": "code",
   "execution_count": 60,
   "metadata": {},
   "outputs": [],
   "source": [
    "from torchvision.models.resnet import resnet18\n",
    "                    \n"
   ]
  },
  {
   "cell_type": "code",
   "execution_count": 152,
   "metadata": {},
   "outputs": [],
   "source": [
    "batch_size = batch_size\n",
    "max_epoch = 10\n",
    "\n",
    "#model = Conv1().to(device)\n",
    "\n",
    "'''\n",
    "model = alexnet(pretrained = True)\n",
    "model.classifier[6] = nn.Sequential(\n",
    "                    nn.Linear(4096,1000,bias = True),\n",
    "                    nn.BatchNorm1d(1000),\n",
    "                    nn.ReLU(),\n",
    "                    nn.Linear(1000,500,bias = True),\n",
    "                    nn.BatchNorm1d(500),\n",
    "                    nn.ReLU(),\n",
    "                    nn.Linear(500,50,bias = True),\n",
    "                    nn.BatchNorm1d(50),\n",
    "                    nn.ReLU(),\n",
    "                    nn.Linear(50,3,bias = True),\n",
    "                    nn.Softmax(dim= 1)\n",
    "                    )\n",
    "\n",
    "model.to(device)\n",
    "'''\n",
    "\n",
    "#'''\n",
    "model = resnet18(pretrained = True)\n",
    "model.fc = nn.Sequential(\n",
    "    nn.Dropout(0.4),\n",
    "    nn.BatchNorm1d(512),\n",
    "    nn.ReLU(),\n",
    "    nn.Linear(512,3,bias = True),\n",
    "    nn.Softmax()\n",
    ")   \n",
    "\n",
    "model.to(device)\n",
    "#'''\n",
    "\n",
    "#model = Conv2().to(device)\n",
    "\n",
    "loss_fn = nn.CrossEntropyLoss()\n",
    "\n",
    "#-------------------------------ADADELTA------------------------------------\n",
    "opt = torch.optim.Adadelta(model.parameters(),lr = 1)\n",
    "\n",
    "#-------------------------------ADAM-------------------------------------\n",
    "#opt = torch.optim.Adam(model.parameters(),lr = 0.01)\n",
    "\n",
    "#--------------------------------SGD-------------------------------------------\n",
    "\n",
    "#opt = torch.optim.SGD(model.parameters(), lr = 0.1, momentum=0.1,nesterov=True)"
   ]
  },
  {
   "cell_type": "code",
   "execution_count": 153,
   "metadata": {},
   "outputs": [],
   "source": [
    "train_losses = []\n",
    "val_losses = []\n",
    "validation_losses = []"
   ]
  },
  {
   "cell_type": "code",
   "execution_count": 156,
   "metadata": {},
   "outputs": [
    {
     "name": "stdout",
     "output_type": "stream",
     "text": [
      "Epoch 1\n",
      "Accuracy: 300 304 0.9868421052631579\n",
      "Truth rock Pred rock\n",
      "Train Loss 0.5552856922149658\n",
      "Epoch 2\n",
      "Accuracy: 300 304 0.9868421052631579\n",
      "Truth rock Pred rock\n",
      "Train Loss 0.5567788481712341\n",
      "Epoch 3\n",
      "Accuracy: 300 304 0.9868421052631579\n",
      "Truth paper Pred paper\n",
      "Train Loss 0.5559231638908386\n",
      "Epoch 4\n",
      "Accuracy: 300 304 0.9868421052631579\n",
      "Truth scissors Pred scissors\n",
      "Train Loss 0.555047869682312\n",
      "Epoch 5\n",
      "Accuracy: 300 304 0.9868421052631579\n",
      "Truth rock Pred rock\n",
      "Train Loss 0.5573054552078247\n",
      "Epoch 6\n",
      "Accuracy: 300 304 0.9868421052631579\n",
      "Truth scissors Pred scissors\n",
      "Train Loss 0.5539582967758179\n",
      "Epoch 7\n",
      "Accuracy: 300 304 0.9868421052631579\n",
      "Truth scissors Pred scissors\n",
      "Train Loss 0.5546984076499939\n",
      "Epoch 8\n",
      "Accuracy: 300 304 0.9868421052631579\n",
      "Truth paper Pred paper\n",
      "Train Loss 0.5548917055130005\n",
      "Epoch 9\n",
      "Accuracy: 300 304 0.9868421052631579\n",
      "Truth rock Pred rock\n",
      "Train Loss 0.5538460612297058\n",
      "Epoch 10\n",
      "Accuracy: 300 304 0.9868421052631579\n",
      "Truth paper Pred paper\n",
      "Train Loss 0.5537961721420288\n"
     ]
    }
   ],
   "source": [
    "try:\n",
    "  epoch = 1\n",
    "\n",
    "  while epoch<=max_epoch:\n",
    "    print(\"Epoch\",epoch)\n",
    "    train_losses = train(model,train_losses,device)\n",
    "    test(model,device)\n",
    "    print_prediction(model,validation_data,device)\n",
    "    #plot_loss(epoch, train_losses)\n",
    "    print(\"Train Loss\",train_losses[-1])\n",
    "    epoch += 1\n",
    "    #torch.save(model,\"/content/checkpoints/Conv2_e_\"+str(epoch)+\".pt\")\n",
    "except KeyboardInterrupt:\n",
    "  pass\n",
    "    "
   ]
  },
  {
   "cell_type": "code",
   "execution_count": 155,
   "metadata": {},
   "outputs": [],
   "source": [
    "torch.save(model.type(torch.float32),'resnet.pt')"
   ]
  },
  {
   "cell_type": "code",
   "execution_count": null,
   "metadata": {},
   "outputs": [],
   "source": []
  }
 ],
 "metadata": {
  "kernelspec": {
   "display_name": "Python 3",
   "language": "python",
   "name": "python3"
  },
  "language_info": {
   "codemirror_mode": {
    "name": "ipython",
    "version": 3
   },
   "file_extension": ".py",
   "mimetype": "text/x-python",
   "name": "python",
   "nbconvert_exporter": "python",
   "pygments_lexer": "ipython3",
   "version": "3.7.6"
  }
 },
 "nbformat": 4,
 "nbformat_minor": 2
}
